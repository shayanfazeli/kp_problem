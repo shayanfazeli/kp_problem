{
 "cells": [
  {
   "cell_type": "code",
   "execution_count": null,
   "metadata": {},
   "outputs": [],
   "source": []
  },
  {
   "cell_type": "markdown",
   "metadata": {},
   "source": [
    "# Dataset - Neural Networks"
   ]
  },
  {
   "cell_type": "markdown",
   "metadata": {},
   "source": [
    "In this document, I will go over preparing the training/testing data to be used in PyTorch-based models."
   ]
  },
  {
   "cell_type": "code",
   "execution_count": 11,
   "metadata": {},
   "outputs": [],
   "source": [
    "# - preparing the master dataframe\n",
    "from typing import List, Tuple\n",
    "import os\n",
    "import random\n",
    "import numpy\n",
    "import pandas\n",
    "import matplotlib.pyplot as plt\n",
    "import torch\n",
    "import torch.utils.data.dataset\n",
    "import torch.utils.data.dataloader\n",
    "\n",
    "\n",
    "dataset_url = 'https://figshare.com/ndownloader/files/35249488'\n",
    "# - getting the dataset\n",
    "cache_path = os.path.abspath('../resources/raw_data/dataset.pkl')\n",
    "if os.path.isfile(cache_path):\n",
    "    df = pandas.read_pickle(cache_path)\n",
    "else:\n",
    "    df = pandas.read_csv(dataset_url).drop(columns=['Unnamed: 0'])\n",
    "    df.to_pickle(cache_path)"
   ]
  },
  {
   "cell_type": "code",
   "execution_count": 12,
   "metadata": {},
   "outputs": [],
   "source": [
    "df_meta = df.copy()"
   ]
  },
  {
   "cell_type": "code",
   "execution_count": 13,
   "metadata": {},
   "outputs": [
    {
     "data": {
      "text/html": [
       "<div>\n",
       "<style scoped>\n",
       "    .dataframe tbody tr th:only-of-type {\n",
       "        vertical-align: middle;\n",
       "    }\n",
       "\n",
       "    .dataframe tbody tr th {\n",
       "        vertical-align: top;\n",
       "    }\n",
       "\n",
       "    .dataframe thead th {\n",
       "        text-align: right;\n",
       "    }\n",
       "</style>\n",
       "<table border=\"1\" class=\"dataframe\">\n",
       "  <thead>\n",
       "    <tr style=\"text-align: right;\">\n",
       "      <th></th>\n",
       "      <th>PatientID</th>\n",
       "      <th>Gender</th>\n",
       "      <th>Ethnic</th>\n",
       "    </tr>\n",
       "  </thead>\n",
       "  <tbody>\n",
       "    <tr>\n",
       "      <th>0</th>\n",
       "      <td>0</td>\n",
       "      <td>1.0</td>\n",
       "      <td>4.0</td>\n",
       "    </tr>\n",
       "    <tr>\n",
       "      <th>1</th>\n",
       "      <td>1</td>\n",
       "      <td>1.0</td>\n",
       "      <td>3.0</td>\n",
       "    </tr>\n",
       "    <tr>\n",
       "      <th>2</th>\n",
       "      <td>2</td>\n",
       "      <td>1.0</td>\n",
       "      <td>4.0</td>\n",
       "    </tr>\n",
       "    <tr>\n",
       "      <th>3</th>\n",
       "      <td>3</td>\n",
       "      <td>1.0</td>\n",
       "      <td>4.0</td>\n",
       "    </tr>\n",
       "    <tr>\n",
       "      <th>4</th>\n",
       "      <td>4</td>\n",
       "      <td>1.0</td>\n",
       "      <td>3.0</td>\n",
       "    </tr>\n",
       "  </tbody>\n",
       "</table>\n",
       "</div>"
      ],
      "text/plain": [
       "   PatientID  Gender  Ethnic\n",
       "0          0     1.0     4.0\n",
       "1          1     1.0     3.0\n",
       "2          2     1.0     4.0\n",
       "3          3     1.0     4.0\n",
       "4          4     1.0     3.0"
      ]
     },
     "execution_count": 13,
     "metadata": {},
     "output_type": "execute_result"
    }
   ],
   "source": [
    "df_meta = df_meta.loc[:, ['PatientID', 'Gender', 'Ethnic']].groupby('PatientID').first().reset_index()\n",
    "df_meta.head()"
   ]
  },
  {
   "cell_type": "code",
   "execution_count": 14,
   "metadata": {},
   "outputs": [
    {
     "data": {
      "text/plain": [
       "(8916, 3)"
      ]
     },
     "execution_count": 14,
     "metadata": {},
     "output_type": "execute_result"
    }
   ],
   "source": [
    "df_meta.shape"
   ]
  },
  {
   "cell_type": "markdown",
   "metadata": {},
   "source": [
    "## Splits"
   ]
  },
  {
   "cell_type": "markdown",
   "metadata": {},
   "source": [
    "Given the nature of the problem, I will use patient ID as item identifier and perform stratified splitting based on the key demographics that are available (Gender and Ethnicity).\n",
    "\n",
    "If the other features indicate things such as \"pre-existing conditions\" it could be better to consider those as well (so as to not end up with a all very diseased people being in the test set, and so on.)"
   ]
  },
  {
   "cell_type": "code",
   "execution_count": 15,
   "metadata": {},
   "outputs": [],
   "source": [
    "from sklearn.model_selection import train_test_split"
   ]
  },
  {
   "cell_type": "code",
   "execution_count": 16,
   "metadata": {},
   "outputs": [],
   "source": [
    "df_train_meta, df_test_meta = train_test_split(\n",
    "    df_meta,\n",
    "    test_size=0.2,\n",
    "    shuffle=True,\n",
    "    random_state=29,\n",
    "    stratify=df_meta.loc[:, ['Gender', 'Ethnic']]\n",
    ")"
   ]
  },
  {
   "cell_type": "code",
   "execution_count": 17,
   "metadata": {},
   "outputs": [],
   "source": [
    "assert len(set(df_train_meta.PatientID.unique()).intersection(df_test_meta.PatientID.unique())) == 0"
   ]
  },
  {
   "cell_type": "code",
   "execution_count": 18,
   "metadata": {},
   "outputs": [
    {
     "data": {
      "image/png": "[encoded data removed]",
      "text/plain": [
       "<Figure size 640x480 with 2 Axes>"
      ]
     },
     "metadata": {},
     "output_type": "display_data"
    }
   ],
   "source": [
    "fig, axes = plt.subplots(nrows=1, ncols=2)\n",
    "axes[0].hist(df_test_meta.Ethnic)\n",
    "axes[1].hist(df_train_meta.Ethnic)\n",
    "plt.show()"
   ]
  },
  {
   "cell_type": "code",
   "execution_count": 19,
   "metadata": {},
   "outputs": [
    {
     "data": {
      "image/png": "[encoded data removed]",
      "text/plain": [
       "<Figure size 640x480 with 2 Axes>"
      ]
     },
     "metadata": {},
     "output_type": "display_data"
    }
   ],
   "source": [
    "fig, axes = plt.subplots(nrows=1, ncols=2)\n",
    "axes[0].hist(df_test_meta.Gender)\n",
    "axes[1].hist(df_train_meta.Gender)\n",
    "plt.show()"
   ]
  },
  {
   "cell_type": "code",
   "execution_count": 20,
   "metadata": {},
   "outputs": [],
   "source": [
    "df_test = pandas.merge(df, df_test_meta, on=['Gender','Ethnic', 'PatientID'], how='right')\n",
    "df_train = pandas.merge(df, df_train_meta, on=['Gender','Ethnic', 'PatientID'], how='right')"
   ]
  },
  {
   "cell_type": "code",
   "execution_count": 21,
   "metadata": {},
   "outputs": [],
   "source": [
    "assert len(set(df_train.PatientID.unique()).intersection(df_test.PatientID.unique())) == 0"
   ]
  },
  {
   "cell_type": "code",
   "execution_count": 63,
   "metadata": {},
   "outputs": [],
   "source": [
    "class NNRTIDataset(torch.utils.data.dataset.Dataset):\n",
    "    def __init__(\n",
    "            self,\n",
    "            df: pandas.DataFrame,\n",
    "            seq_len_options: List[Tuple[int, int]],\n",
    "            shuffle: bool = False,\n",
    "    ):\n",
    "        self.df = df.copy()\n",
    "\n",
    "        # - compute the identifiers, namely, list of tuples of patientid, start_timepoint, and length\n",
    "        self.patient_ids = sorted(self.df.PatientID.unique().tolist())\n",
    "        if shuffle:\n",
    "            random.shuffle(self.patient_ids)\n",
    "\n",
    "        self.seq_options = []\n",
    "        for seq_len, stride in seq_len_options:\n",
    "            for i in range(0, 60-seq_len, stride):\n",
    "                self.seq_options.append(\n",
    "                    (i, seq_len)\n",
    "                )\n",
    "\n",
    "        self.df.set_index(['PatientID', 'Timepoints'], inplace=True)\n",
    "\n",
    "\n",
    "    def __len__(self):\n",
    "        return len(self.patient_ids) * len(self.seq_options)\n",
    "    \n",
    "\n",
    "    def __getitem__(self, idx):\n",
    "        patient_id = self.patient_ids[idx % len(self.patient_ids)]\n",
    "        i_start, seq_len = self.seq_options[idx // len(self.patient_ids)]\n",
    "        \n",
    "        tmp = self.df.loc[[\n",
    "            (patient_id, i_start + i) for i in range(seq_len)\n",
    "        ]].copy()\n",
    "\n",
    "        static_features = tmp.loc[:, ['Gender', 'Ethnic']].iloc[0].to_numpy()\n",
    "\n",
    "        seq_categorical = tmp.loc[:, [\n",
    "            'Base Drug Combo',\n",
    "            'Extra PI',\n",
    "            'Extra pk-En',\n",
    "            'VL (M)',\n",
    "            'CD4 (M)',\n",
    "            'Drug (M)',\n",
    "            'Comp. NNRTI',\n",
    "            'Comp. INI',\n",
    "        ]].to_numpy()\n",
    "\n",
    "        seq_numerical = tmp.loc[:, [\n",
    "            'VL', \n",
    "            'CD4', \n",
    "            'Rel CD4',\n",
    "        ]].to_numpy()\n",
    "\n",
    "        return dict(\n",
    "            tmp=tmp,\n",
    "            static_features=static_features,\n",
    "            seq_numerical=seq_numerical,\n",
    "            seq_categorical=seq_categorical\n",
    "        )\n",
    "\n",
    "\n",
    "\n",
    "        "
   ]
  },
  {
   "cell_type": "code",
   "execution_count": 71,
   "metadata": {},
   "outputs": [],
   "source": [
    "dataset = NNRTIDataset(\n",
    "    df=df_train,\n",
    "    seq_len_options=[(5, 5), (10, 10), (20, 20)],\n",
    "    shuffle=True\n",
    ")"
   ]
  },
  {
   "cell_type": "code",
   "execution_count": 72,
   "metadata": {},
   "outputs": [
    {
     "data": {
      "text/html": [
       "<div>\n",
       "<style scoped>\n",
       "    .dataframe tbody tr th:only-of-type {\n",
       "        vertical-align: middle;\n",
       "    }\n",
       "\n",
       "    .dataframe tbody tr th {\n",
       "        vertical-align: top;\n",
       "    }\n",
       "\n",
       "    .dataframe thead th {\n",
       "        text-align: right;\n",
       "    }\n",
       "</style>\n",
       "<table border=\"1\" class=\"dataframe\">\n",
       "  <thead>\n",
       "    <tr style=\"text-align: right;\">\n",
       "      <th></th>\n",
       "      <th></th>\n",
       "      <th>VL</th>\n",
       "      <th>CD4</th>\n",
       "      <th>Rel CD4</th>\n",
       "      <th>Gender</th>\n",
       "      <th>Ethnic</th>\n",
       "      <th>Base Drug Combo</th>\n",
       "      <th>Comp. INI</th>\n",
       "      <th>Comp. NNRTI</th>\n",
       "      <th>Extra PI</th>\n",
       "      <th>Extra pk-En</th>\n",
       "      <th>VL (M)</th>\n",
       "      <th>CD4 (M)</th>\n",
       "      <th>Drug (M)</th>\n",
       "    </tr>\n",
       "    <tr>\n",
       "      <th>PatientID</th>\n",
       "      <th>Timepoints</th>\n",
       "      <th></th>\n",
       "      <th></th>\n",
       "      <th></th>\n",
       "      <th></th>\n",
       "      <th></th>\n",
       "      <th></th>\n",
       "      <th></th>\n",
       "      <th></th>\n",
       "      <th></th>\n",
       "      <th></th>\n",
       "      <th></th>\n",
       "      <th></th>\n",
       "      <th></th>\n",
       "    </tr>\n",
       "  </thead>\n",
       "  <tbody>\n",
       "    <tr>\n",
       "      <th rowspan=\"5\" valign=\"top\">4892</th>\n",
       "      <th>0</th>\n",
       "      <td>5931.96700</td>\n",
       "      <td>857.49540</td>\n",
       "      <td>30.215862</td>\n",
       "      <td>1.0</td>\n",
       "      <td>4.0</td>\n",
       "      <td>1.0</td>\n",
       "      <td>0.0</td>\n",
       "      <td>3.0</td>\n",
       "      <td>5.0</td>\n",
       "      <td>0.0</td>\n",
       "      <td>1.0</td>\n",
       "      <td>1.0</td>\n",
       "      <td>0.0</td>\n",
       "    </tr>\n",
       "    <tr>\n",
       "      <th>1</th>\n",
       "      <td>1078.53870</td>\n",
       "      <td>341.30185</td>\n",
       "      <td>33.743225</td>\n",
       "      <td>1.0</td>\n",
       "      <td>4.0</td>\n",
       "      <td>1.0</td>\n",
       "      <td>0.0</td>\n",
       "      <td>3.0</td>\n",
       "      <td>5.0</td>\n",
       "      <td>0.0</td>\n",
       "      <td>0.0</td>\n",
       "      <td>0.0</td>\n",
       "      <td>0.0</td>\n",
       "    </tr>\n",
       "    <tr>\n",
       "      <th>2</th>\n",
       "      <td>405.95900</td>\n",
       "      <td>271.12080</td>\n",
       "      <td>25.063938</td>\n",
       "      <td>1.0</td>\n",
       "      <td>4.0</td>\n",
       "      <td>1.0</td>\n",
       "      <td>0.0</td>\n",
       "      <td>3.0</td>\n",
       "      <td>5.0</td>\n",
       "      <td>0.0</td>\n",
       "      <td>1.0</td>\n",
       "      <td>1.0</td>\n",
       "      <td>1.0</td>\n",
       "    </tr>\n",
       "    <tr>\n",
       "      <th>3</th>\n",
       "      <td>25.97034</td>\n",
       "      <td>617.20276</td>\n",
       "      <td>35.737760</td>\n",
       "      <td>1.0</td>\n",
       "      <td>4.0</td>\n",
       "      <td>1.0</td>\n",
       "      <td>3.0</td>\n",
       "      <td>3.0</td>\n",
       "      <td>5.0</td>\n",
       "      <td>0.0</td>\n",
       "      <td>0.0</td>\n",
       "      <td>0.0</td>\n",
       "      <td>1.0</td>\n",
       "    </tr>\n",
       "    <tr>\n",
       "      <th>4</th>\n",
       "      <td>1229.81420</td>\n",
       "      <td>231.11073</td>\n",
       "      <td>26.807066</td>\n",
       "      <td>1.0</td>\n",
       "      <td>4.0</td>\n",
       "      <td>1.0</td>\n",
       "      <td>0.0</td>\n",
       "      <td>3.0</td>\n",
       "      <td>5.0</td>\n",
       "      <td>0.0</td>\n",
       "      <td>1.0</td>\n",
       "      <td>1.0</td>\n",
       "      <td>0.0</td>\n",
       "    </tr>\n",
       "  </tbody>\n",
       "</table>\n",
       "</div>"
      ],
      "text/plain": [
       "                              VL        CD4    Rel CD4  Gender  Ethnic  \\\n",
       "PatientID Timepoints                                                     \n",
       "4892      0           5931.96700  857.49540  30.215862     1.0     4.0   \n",
       "          1           1078.53870  341.30185  33.743225     1.0     4.0   \n",
       "          2            405.95900  271.12080  25.063938     1.0     4.0   \n",
       "          3             25.97034  617.20276  35.737760     1.0     4.0   \n",
       "          4           1229.81420  231.11073  26.807066     1.0     4.0   \n",
       "\n",
       "                      Base Drug Combo  Comp. INI  Comp. NNRTI  Extra PI  \\\n",
       "PatientID Timepoints                                                      \n",
       "4892      0                       1.0        0.0          3.0       5.0   \n",
       "          1                       1.0        0.0          3.0       5.0   \n",
       "          2                       1.0        0.0          3.0       5.0   \n",
       "          3                       1.0        3.0          3.0       5.0   \n",
       "          4                       1.0        0.0          3.0       5.0   \n",
       "\n",
       "                      Extra pk-En  VL (M)  CD4 (M)  Drug (M)  \n",
       "PatientID Timepoints                                          \n",
       "4892      0                   0.0     1.0      1.0       0.0  \n",
       "          1                   0.0     0.0      0.0       0.0  \n",
       "          2                   0.0     1.0      1.0       1.0  \n",
       "          3                   0.0     0.0      0.0       1.0  \n",
       "          4                   0.0     1.0      1.0       0.0  "
      ]
     },
     "execution_count": 72,
     "metadata": {},
     "output_type": "execute_result"
    }
   ],
   "source": [
    "dataset[2]['tmp']"
   ]
  },
  {
   "cell_type": "code",
   "execution_count": 73,
   "metadata": {},
   "outputs": [
    {
     "data": {
      "text/plain": [
       "array([1., 4.])"
      ]
     },
     "execution_count": 73,
     "metadata": {},
     "output_type": "execute_result"
    }
   ],
   "source": [
    "dataset[2]['static_features']"
   ]
  },
  {
   "cell_type": "code",
   "execution_count": 74,
   "metadata": {},
   "outputs": [
    {
     "data": {
      "text/plain": [
       "array([[1., 0., 5., 0.],\n",
       "       [1., 0., 5., 0.],\n",
       "       [1., 0., 5., 0.],\n",
       "       [1., 3., 5., 0.],\n",
       "       [1., 0., 5., 0.]])"
      ]
     },
     "execution_count": 74,
     "metadata": {},
     "output_type": "execute_result"
    }
   ],
   "source": [
    "dataset[2]['seq_categorical']"
   ]
  },
  {
   "cell_type": "code",
   "execution_count": 75,
   "metadata": {},
   "outputs": [
    {
     "data": {
      "text/plain": [
       "(5, 10)"
      ]
     },
     "execution_count": 75,
     "metadata": {},
     "output_type": "execute_result"
    }
   ],
   "source": [
    "dataset[2]['seq_numerical'].shape"
   ]
  },
  {
   "cell_type": "code",
   "execution_count": 77,
   "metadata": {},
   "outputs": [
    {
     "data": {
      "text/plain": [
       "128376"
      ]
     },
     "execution_count": 77,
     "metadata": {},
     "output_type": "execute_result"
    }
   ],
   "source": [
    "len(dataset)#// 256"
   ]
  },
  {
   "cell_type": "code",
   "execution_count": null,
   "metadata": {},
   "outputs": [],
   "source": []
  }
 ],
 "metadata": {
  "kernelspec": {
   "display_name": "myai",
   "language": "python",
   "name": "python3"
  },
  "language_info": {
   "codemirror_mode": {
    "name": "ipython",
    "version": 3
   },
   "file_extension": ".py",
   "mimetype": "text/x-python",
   "name": "python",
   "nbconvert_exporter": "python",
   "pygments_lexer": "ipython3",
   "version": "3.11.5"
  }
 },
 "nbformat": 4,
 "nbformat_minor": 2
}
