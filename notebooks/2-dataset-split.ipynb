{
 "cells": [
  {
   "cell_type": "code",
   "execution_count": 1,
   "metadata": {},
   "outputs": [
    {
     "data": {
      "text/html": [
       "<div>\n",
       "<style scoped>\n",
       "    .dataframe tbody tr th:only-of-type {\n",
       "        vertical-align: middle;\n",
       "    }\n",
       "\n",
       "    .dataframe tbody tr th {\n",
       "        vertical-align: top;\n",
       "    }\n",
       "\n",
       "    .dataframe thead th {\n",
       "        text-align: right;\n",
       "    }\n",
       "</style>\n",
       "<table border=\"1\" class=\"dataframe\">\n",
       "  <thead>\n",
       "    <tr style=\"text-align: right;\">\n",
       "      <th></th>\n",
       "      <th>PatientID</th>\n",
       "      <th>Gender</th>\n",
       "      <th>Ethnic</th>\n",
       "    </tr>\n",
       "  </thead>\n",
       "  <tbody>\n",
       "    <tr>\n",
       "      <th>0</th>\n",
       "      <td>0</td>\n",
       "      <td>1.0</td>\n",
       "      <td>4.0</td>\n",
       "    </tr>\n",
       "    <tr>\n",
       "      <th>1</th>\n",
       "      <td>1</td>\n",
       "      <td>1.0</td>\n",
       "      <td>3.0</td>\n",
       "    </tr>\n",
       "    <tr>\n",
       "      <th>2</th>\n",
       "      <td>2</td>\n",
       "      <td>1.0</td>\n",
       "      <td>4.0</td>\n",
       "    </tr>\n",
       "    <tr>\n",
       "      <th>3</th>\n",
       "      <td>3</td>\n",
       "      <td>1.0</td>\n",
       "      <td>4.0</td>\n",
       "    </tr>\n",
       "    <tr>\n",
       "      <th>4</th>\n",
       "      <td>4</td>\n",
       "      <td>1.0</td>\n",
       "      <td>3.0</td>\n",
       "    </tr>\n",
       "  </tbody>\n",
       "</table>\n",
       "</div>"
      ],
      "text/plain": [
       "   PatientID  Gender  Ethnic\n",
       "0          0     1.0     4.0\n",
       "1          1     1.0     3.0\n",
       "2          2     1.0     4.0\n",
       "3          3     1.0     4.0\n",
       "4          4     1.0     3.0"
      ]
     },
     "execution_count": 1,
     "metadata": {},
     "output_type": "execute_result"
    }
   ],
   "source": [
    "# - preparing the master dataframe\n",
    "from typing import List, Tuple\n",
    "import os\n",
    "import random\n",
    "import numpy\n",
    "import pandas\n",
    "import matplotlib.pyplot as plt\n",
    "import torch\n",
    "import torch.utils.data.dataset\n",
    "import torch.utils.data.dataloader\n",
    "\n",
    "\n",
    "dataset_url = 'https://figshare.com/ndownloader/files/35249488'\n",
    "# - getting the dataset\n",
    "cache_path = os.path.abspath('../resources/raw_data/dataset.pkl')\n",
    "if os.path.isfile(cache_path):\n",
    "    df = pandas.read_pickle(cache_path)\n",
    "else:\n",
    "    df = pandas.read_csv(dataset_url).drop(columns=['Unnamed: 0'])\n",
    "    df.to_pickle(cache_path)\n",
    "\n",
    "\n",
    "df_meta = df.copy()\n",
    "\n",
    "\n",
    "df_meta = df_meta.loc[:, ['PatientID', 'Gender', 'Ethnic']].groupby('PatientID').first().reset_index()\n",
    "df_meta.head()"
   ]
  },
  {
   "cell_type": "markdown",
   "metadata": {},
   "source": [
    "# Dataset Split"
   ]
  },
  {
   "cell_type": "markdown",
   "metadata": {},
   "source": [
    "Given the nature of the problem, I will use patient ID as item identifier and perform stratified splitting based on the key demographics that are available (Gender and Ethnicity).\n",
    "\n",
    "If the other features indicate things such as \"pre-existing conditions\" it could be better to consider those as well (so as to not end up with a all very diseased people being in the test set, and so on.)"
   ]
  },
  {
   "cell_type": "code",
   "execution_count": 2,
   "metadata": {},
   "outputs": [],
   "source": [
    "from sklearn.model_selection import train_test_split"
   ]
  },
  {
   "cell_type": "code",
   "execution_count": 3,
   "metadata": {},
   "outputs": [],
   "source": [
    "df_train_meta, df_test_meta = train_test_split(\n",
    "    df_meta,\n",
    "    test_size=0.2,\n",
    "    shuffle=True,\n",
    "    random_state=29,\n",
    "    stratify=df_meta.loc[:, ['Gender', 'Ethnic']]\n",
    ")"
   ]
  },
  {
   "cell_type": "code",
   "execution_count": 4,
   "metadata": {},
   "outputs": [],
   "source": [
    "assert len(set(df_train_meta.PatientID.unique()).intersection(df_test_meta.PatientID.unique())) == 0"
   ]
  },
  {
   "cell_type": "code",
   "execution_count": 7,
   "metadata": {},
   "outputs": [],
   "source": [
    "import pickle\n",
    "\n",
    "with open(os.path.abspath('../resources/train_test_split.pkl'), 'wb') as handle:\n",
    "    pickle.dump((df_train_meta, df_test_meta), handle)"
   ]
  }
 ],
 "metadata": {
  "kernelspec": {
   "display_name": "myai",
   "language": "python",
   "name": "python3"
  },
  "language_info": {
   "codemirror_mode": {
    "name": "ipython",
    "version": 3
   },
   "file_extension": ".py",
   "mimetype": "text/x-python",
   "name": "python",
   "nbconvert_exporter": "python",
   "pygments_lexer": "ipython3",
   "version": "3.11.5"
  }
 },
 "nbformat": 4,
 "nbformat_minor": 2
}
